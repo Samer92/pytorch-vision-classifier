{
 "cells": [
  {
   "cell_type": "code",
   "execution_count": null,
   "metadata": {
    "colab": {
     "base_uri": "https://localhost:8080/"
    },
    "executionInfo": {
     "elapsed": 2669,
     "status": "ok",
     "timestamp": 1605737586590,
     "user": {
      "displayName": "ashraf alkilany",
      "photoUrl": "https://lh3.googleusercontent.com/a-/AOh14GgVid6__EenpK22X8G5QmbhtWE_ivChDWFv04HAXg=s64",
      "userId": "14343052987007834515"
     },
     "user_tz": -120
    },
    "id": "YiW6Kh1s208J",
    "outputId": "9b442b3e-93fd-4f7a-fb44-acdfc74852c4"
   },
   "outputs": [
    {
     "name": "stderr",
     "output_type": "stream",
     "text": [
      "/usr/local/lib/python3.6/dist-packages/sklearn/externals/six.py:31: FutureWarning: The module is deprecated in version 0.21 and will be removed in version 0.23 since we've dropped support for Python 2.7. Please rely on the official version of six (https://pypi.org/project/six/).\n",
      "  \"(https://pypi.org/project/six/).\", FutureWarning)\n",
      "/usr/local/lib/python3.6/dist-packages/sklearn/utils/deprecation.py:144: FutureWarning: The sklearn.neighbors.base module is  deprecated in version 0.22 and will be removed in version 0.24. The corresponding classes / functions should instead be imported from sklearn.neighbors. Anything that cannot be imported from sklearn.neighbors is now part of the private API.\n",
      "  warnings.warn(message, FutureWarning)\n",
      "/usr/local/lib/python3.6/dist-packages/sklearn/utils/deprecation.py:144: FutureWarning: The sklearn.metrics.classification module is  deprecated in version 0.22 and will be removed in version 0.24. The corresponding classes / functions should instead be imported from sklearn.metrics. Anything that cannot be imported from sklearn.metrics is now part of the private API.\n",
      "  warnings.warn(message, FutureWarning)\n"
     ]
    }
   ],
   "source": [
    "from pytorch_vision_classifier.pytorch_dataset_samplers import ImbalancedDatasetSampler\n",
    "from pytorch_vision_classifier.pytorch_dataset_preparation import PytorchDatasetPreparation\n",
    "from pytorch_vision_classifier.pytorch_device_manager import DeviceManager\n",
    "from pytorch_vision_classifier.pytorch_model_training import ModelInitializer, ModelTraining\n",
    "\n",
    "from classification_analysis.classification_analysis import MetricsVisualization\n",
    "\n",
    "import pickle as pk\n",
    "import numpy as np\n",
    "import random\n",
    "import torch\n",
    "import torch.nn as nn\n",
    "import torch.optim as optim\n",
    "from torch.optim.lr_scheduler import StepLR, ReduceLROnPlateau, MultiStepLR\n",
    "from torchvision import transforms, models"
   ]
  },
  {
   "cell_type": "code",
   "execution_count": null,
   "metadata": {
    "colab": {
     "base_uri": "https://localhost:8080/"
    },
    "executionInfo": {
     "elapsed": 2481,
     "status": "ok",
     "timestamp": 1605737586594,
     "user": {
      "displayName": "ashraf alkilany",
      "photoUrl": "https://lh3.googleusercontent.com/a-/AOh14GgVid6__EenpK22X8G5QmbhtWE_ivChDWFv04HAXg=s64",
      "userId": "14343052987007834515"
     },
     "user_tz": -120
    },
    "id": "opaNrWk04rHw",
    "outputId": "ffc31520-3149-47e6-8ebe-48cc34e1d456"
   },
   "outputs": [
    {
     "name": "stdout",
     "output_type": "stream",
     "text": [
      "Number of GPUs :  1 \n",
      "\n",
      "* GPU index : 0 \t GPU name : Tesla T4 \t RAM : 15.812 [GB] \n",
      "\n"
     ]
    }
   ],
   "source": [
    "# Device information\n",
    "dvc_mng = DeviceManager()\n",
    "dvc_mng.available_gpus_info()\n",
    "device = dvc_mng.get_gpu_device(0)"
   ]
  },
  {
   "cell_type": "code",
   "execution_count": null,
   "metadata": {
    "colab": {
     "base_uri": "https://localhost:8080/"
    },
    "executionInfo": {
     "elapsed": 2276,
     "status": "ok",
     "timestamp": 1605737586599,
     "user": {
      "displayName": "ashraf alkilany",
      "photoUrl": "https://lh3.googleusercontent.com/a-/AOh14GgVid6__EenpK22X8G5QmbhtWE_ivChDWFv04HAXg=s64",
      "userId": "14343052987007834515"
     },
     "user_tz": -120
    },
    "id": "XsVof6ON6LZG",
    "outputId": "e8b7426f-f153-4482-fbd7-7f1768dac2f2"
   },
   "outputs": [
    {
     "name": "stdout",
     "output_type": "stream",
     "text": [
      "Done\n"
     ]
    },
    {
     "data": {
      "text/plain": [
       "* Root directory : \n",
       "['/content/drive/My Drive/Pytorch/pytorch vision classifier/hymenoptera_data']\n",
       "\n",
       "* Classes details : \n",
       "Number of classes : 2\n",
       "Available classes : {'ants': 0, 'bees': 1}\n",
       "\n",
       "* Dataset\n",
       "** Extensions details : \n",
       "Available extensions : ['.jpg']\n",
       "Number of samples per extension : \n",
       ".jpg    397\n",
       "dtype: int64\n",
       "\n",
       "** Samples details : \n",
       "Number of samples : 397\n",
       "Number of samples per class and per extension : \n",
       "            class_name number_of_samples .jpg\n",
       "class_index                                  \n",
       "0                 ants               193  193\n",
       "1                 bees               204  204\n",
       "Classes percentages : [0.486 0.514]\n",
       "Classes weights : [2.058 1.946]\n",
       "\n",
       "\n",
       "* Training Dataset\n",
       "** Extensions details : \n",
       "Available extensions : ['.jpg']\n",
       "Number of samples per extension : \n",
       ".jpg    317\n",
       "dtype: int64\n",
       "\n",
       "** Samples details : \n",
       "Number of samples : 317\n",
       "Number of samples per class and per extension : \n",
       "            class_name number_of_samples .jpg\n",
       "class_index                                  \n",
       "0                 ants               154  154\n",
       "1                 bees               163  163\n",
       "Classes percentages : [0.486 0.514]\n",
       "Classes weights : [2.058 1.946]\n",
       "\n",
       "\n",
       "* Validation Dataset\n",
       "** Extensions details : \n",
       "Available extensions : ['.jpg']\n",
       "Number of samples per extension : \n",
       ".jpg    80\n",
       "dtype: int64\n",
       "\n",
       "** Samples details : \n",
       "Number of samples : 80\n",
       "Number of samples per class and per extension : \n",
       "            class_name number_of_samples .jpg\n",
       "class_index                                  \n",
       "0                 ants                39   39\n",
       "1                 bees                41   41\n",
       "Classes percentages : [0.488 0.512]\n",
       "Classes weights : [2.049 1.953]\n",
       "\n"
      ]
     },
     "execution_count": 5,
     "metadata": {
      "tags": []
     },
     "output_type": "execute_result"
    }
   ],
   "source": [
    "# Load the dataset and dataset description\n",
    "dataset_dir = ['hymenoptera_data']   # Dataset directory\n",
    "\n",
    "show_images_dims_summary = False\n",
    "\n",
    "data_splitting_parameters = {\n",
    "    'validation_ratio': 0.2,\n",
    "    'splitting_random_state': 1,\n",
    "}\n",
    "\n",
    "data_loading_parameters = {\n",
    "    'training_batch_size': 16,\n",
    "    'validation_batch_size': 16,\n",
    "    \n",
    "    'training_shuffle': False,\n",
    "    'validation_shuffle': False,\n",
    "    \n",
    "    'training_num_workers': 3,\n",
    "    'validation_num_workers': 3,\n",
    "    \n",
    "    'training_pin_memory': True,\n",
    "    'validation_pin_memory': True,\n",
    "    \n",
    "    'training_sampler_class': None, # Could be None\n",
    "    'training_sampler_parameters': {'data_source': True, 'indices':None, 'num_samples':24960},\n",
    "}\n",
    "\n",
    "if data_loading_parameters['training_sampler_class'] is None:\n",
    "    sampler = 'Uniform'    \n",
    "else:\n",
    "    sampler = data_loading_parameters['training_sampler_class'].__name__\n",
    "\n",
    "# Data transformation\n",
    "data_transforms = {\n",
    "    'train': transforms.Compose([\n",
    "        transforms.Resize((224, 224)),\n",
    "        transforms.ToTensor(),\n",
    "        transforms.Normalize([0.485, 0.456, 0.406], [0.229, 0.224, 0.225])\n",
    "    ]),\n",
    "    \n",
    "    'validation': transforms.Compose([\n",
    "        transforms.Resize((224, 224)),\n",
    "        transforms.ToTensor(),\n",
    "        transforms.Normalize([0.485, 0.456, 0.406], [0.229, 0.224, 0.225])\n",
    "    ]),\n",
    "}\n",
    "\n",
    "# Load the dataset\n",
    "dataset = PytorchDatasetPreparation(dataset_dir = dataset_dir,\n",
    "                                    splitting_parameters = data_splitting_parameters,\n",
    "                                    loading_parameters = data_loading_parameters,\n",
    "                                    data_transforms = data_transforms,\n",
    "                                    show_images_dims_summary = show_images_dims_summary,\n",
    "                                    aws = False)\n",
    "\n",
    "dataset"
   ]
  },
  {
   "cell_type": "code",
   "execution_count": null,
   "metadata": {
    "id": "QjwEKXsJ9vLy"
   },
   "outputs": [],
   "source": [
    "# Model\n",
    "model_name = 'resnet18'\n",
    "model_initializer = ModelInitializer(model_name = model_name, \n",
    "                                     use_pretrained = True, \n",
    "                                     update_head = {'update': True,\n",
    "                                                    'init_mode': 'xavier_normal',\n",
    "                                                    'val': None}, \n",
    "                                     num_classes = dataset.number_of_classes,\n",
    "                                     dropout = {'add_dropout': False, 'prob': None})\n",
    "\n",
    "# Get a model (All layers are non trainble)\n",
    "model = model_initializer.get_model()\n",
    "ModelInitializer.update_trainability([model.fc], trainable = True)"
   ]
  },
  {
   "cell_type": "code",
   "execution_count": null,
   "metadata": {
    "id": "xhRxSPlFAAd0"
   },
   "outputs": [],
   "source": [
    "# Loss function \n",
    "loss_function = nn.CrossEntropyLoss()\n",
    "\n",
    "# Optimizer\n",
    "# optimizer = optim.SGD(model.parameters(), lr=0.001, momentum=0.9)\n",
    "optimizer = optim.Adam(model.parameters(), lr=0.0005)\n",
    "\n",
    "# Scheduler\n",
    "scheduler = MultiStepLR(optimizer, milestones=[5, 40, 80], gamma=0.1)\n",
    "\n",
    "# Epoch\n",
    "num_epochs = 10"
   ]
  },
  {
   "cell_type": "code",
   "execution_count": null,
   "metadata": {
    "id": "lOwjfisVAfdy"
   },
   "outputs": [],
   "source": [
    "model_training = ModelTraining(model = model,\n",
    "                                    model_name = model_name,\n",
    "                                    device = device,\n",
    "                                    loss_function = loss_function,\n",
    "                                    optimizer = optimizer,\n",
    "                                    scheduler = scheduler,\n",
    "                                    num_epochs = num_epochs,\n",
    "                                    input_type={'train': 'single_crop','validation': 'single_crop'},\n",
    "                                    save_model_rate = 5, \n",
    "                                    save_last_model = True)"
   ]
  },
  {
   "cell_type": "code",
   "execution_count": null,
   "metadata": {
    "colab": {
     "background_save": true,
     "base_uri": "https://localhost:8080/"
    },
    "executionInfo": {
     "elapsed": 6683,
     "status": "ok",
     "timestamp": 1605737262036,
     "user": {
      "displayName": "ashraf alkilany",
      "photoUrl": "https://lh3.googleusercontent.com/a-/AOh14GgVid6__EenpK22X8G5QmbhtWE_ivChDWFv04HAXg=s64",
      "userId": "14343052987007834515"
     },
     "user_tz": -120
    },
    "id": "Eww3Ywv5CJEZ",
    "outputId": "cef86b63-52c1-4280-e260-871c57eb9c6d"
   },
   "outputs": [
    {
     "name": "stdout",
     "output_type": "stream",
     "text": [
      "model size 45.0 MB\n",
      "number of all trainable parametesrs: 11177538\n",
      "number of current trainable parametesrs: 1026\n"
     ]
    }
   ],
   "source": [
    "# General memory info\n",
    "model_training.model_memory_size(bits = 32)\n"
   ]
  },
  {
   "cell_type": "code",
   "execution_count": null,
   "metadata": {
    "colab": {
     "background_save": true,
     "base_uri": "https://localhost:8080/"
    },
    "executionInfo": {
     "elapsed": 3337,
     "status": "ok",
     "timestamp": 1605736800795,
     "user": {
      "displayName": "ashraf alkilany",
      "photoUrl": "https://lh3.googleusercontent.com/a-/AOh14GgVid6__EenpK22X8G5QmbhtWE_ivChDWFv04HAXg=s64",
      "userId": "14343052987007834515"
     },
     "user_tz": -120
    },
    "id": "8ngFTo6QCRFk",
    "outputId": "c31a4b83-290c-4b54-89b1-2d43f24ac656"
   },
   "outputs": [
    {
     "name": "stdout",
     "output_type": "stream",
     "text": [
      "Data Transfer reserved 38.536 [MB] GPU RAM\n",
      "Zero gradients reserved 0.0 [MB] GPU RAM\n",
      "Forward reserved 0.132 [MB] GPU RAM\n",
      "Prediction reserved 0.001 [MB] GPU RAM\n",
      "Loss reserved 0.002 [MB] GPU RAM\n",
      "Backward reserved -0.127 [MB] GPU RAM\n",
      "Optimizor reserved 0.009 [MB] GPU RAM\n"
     ]
    }
   ],
   "source": [
    "# Get the memory consumption for each stage during the training\n",
    "model_training.model_memory_utilization(batch_size=64, dim=(224, 224))"
   ]
  },
  {
   "cell_type": "code",
   "execution_count": null,
   "metadata": {
    "colab": {
     "base_uri": "https://localhost:8080/",
     "height": 349
    },
    "executionInfo": {
     "elapsed": 43038,
     "status": "ok",
     "timestamp": 1605736842963,
     "user": {
      "displayName": "ashraf alkilany",
      "photoUrl": "https://lh3.googleusercontent.com/a-/AOh14GgVid6__EenpK22X8G5QmbhtWE_ivChDWFv04HAXg=s64",
      "userId": "14343052987007834515"
     },
     "user_tz": -120
    },
    "id": "A-9t4-0XGxdr",
    "outputId": "f9fb2427-f197-4bef-e744-1f236fa57578"
   },
   "outputs": [
    {
     "data": {
      "application/vnd.jupyter.widget-view+json": {
       "model_id": "0d3fba824e744d6f958f5cd709a9060e",
       "version_major": 2,
       "version_minor": 0
      },
      "text/plain": [
       "HBox(children=(FloatProgress(value=0.0, max=300.0), HTML(value='')))"
      ]
     },
     "metadata": {
      "tags": []
     },
     "output_type": "display_data"
    },
    {
     "name": "stdout",
     "output_type": "stream",
     "text": [
      "Stopping early, the loss has diverged\n",
      "Learning rate search finished. See the graph with {finder_name}.plot()\n"
     ]
    },
    {
     "data": {
      "image/png": "[encoded data removed]",
      "text/plain": [
       "<Figure size 432x288 with 1 Axes>"
      ]
     },
     "metadata": {
      "tags": []
     },
     "output_type": "display_data"
    }
   ],
   "source": [
    "# For more information refer to https://github.com/davidtvs/pytorch-lr-finder\n",
    "# If you want to find the best learning rate\n",
    "model_training.find_best_learning_rate(dataset, num_iter=300,\n",
    "                                       use_val_loss = False, end_lr = 10, step_mode='exp')"
   ]
  },
  {
   "cell_type": "code",
   "execution_count": null,
   "metadata": {
    "colab": {
     "background_save": true,
     "base_uri": "https://localhost:8080/",
     "height": 1000,
     "output_embedded_package_id": "1ecNzMQrGMAIexqBqyqiLi23Gm-H91VU1"
    },
    "executionInfo": {
     "elapsed": 104633,
     "status": "ok",
     "timestamp": 1605737699005,
     "user": {
      "displayName": "ashraf alkilany",
      "photoUrl": "https://lh3.googleusercontent.com/a-/AOh14GgVid6__EenpK22X8G5QmbhtWE_ivChDWFv04HAXg=s64",
      "userId": "14343052987007834515"
     },
     "user_tz": -120
    },
    "id": "l2UETOqaC_vT",
    "outputId": "dc5ef1b1-1147-478b-b038-45688303a89b"
   },
   "outputs": [],
   "source": [
    "# Training loop (Consider val_acc as the mertic to be followed)\n",
    "# This function will show updated training dashboard during the model training\n",
    "# This function will create a pickle file contains the best model and the evaluation metrics\n",
    "model_training.loop(dataset, best='val_acc', reset_epoch_cnt=True)"
   ]
  },
  {
   "cell_type": "code",
   "execution_count": null,
   "metadata": {
    "colab": {
     "base_uri": "https://localhost:8080/"
    },
    "executionInfo": {
     "elapsed": 5959,
     "status": "ok",
     "timestamp": 1605737787096,
     "user": {
      "displayName": "ashraf alkilany",
      "photoUrl": "https://lh3.googleusercontent.com/a-/AOh14GgVid6__EenpK22X8G5QmbhtWE_ivChDWFv04HAXg=s64",
      "userId": "14343052987007834515"
     },
     "user_tz": -120
    },
    "id": "PaVVRwxlGQc1",
    "outputId": "ae7d9db1-6407-41c1-ea05-b051413ec41c"
   },
   "outputs": [
    {
     "name": "stdout",
     "output_type": "stream",
     "text": [
      "Number of crops is 1\n",
      "Number of sources 4\n",
      "Current phase is validation\n",
      "Iteration 0\n"
     ]
    }
   ],
   "source": [
    "# Extarct feature from your model\n",
    "model_training.extract_features(dataset, os.getcwd(), features_layer = {'last_layer': True, 'classifier': True, 'softmax': True})"
   ]
  },
  {
   "cell_type": "code",
   "execution_count": null,
   "metadata": {
    "colab": {
     "base_uri": "https://localhost:8080/",
     "height": 1000
    },
    "executionInfo": {
     "elapsed": 8948,
     "status": "ok",
     "timestamp": 1605738225195,
     "user": {
      "displayName": "ashraf alkilany",
      "photoUrl": "https://lh3.googleusercontent.com/a-/AOh14GgVid6__EenpK22X8G5QmbhtWE_ivChDWFv04HAXg=s64",
      "userId": "14343052987007834515"
     },
     "user_tz": -120
    },
    "id": "7Hw_ml_7DXH9",
    "outputId": "87593bcc-ee68-4962-9a40-54d86a0e3245"
   },
   "outputs": [
    {
     "data": {
      "image/png": "[encoded data removed]",
      "text/plain": [
       "<Figure size 576x432 with 1 Axes>"
      ]
     },
     "metadata": {
      "tags": []
     },
     "output_type": "display_data"
    },
    {
     "data": {
      "image/png": "[encoded data removed]",
      "text/plain": [
       "<Figure size 576x432 with 1 Axes>"
      ]
     },
     "metadata": {
      "tags": []
     },
     "output_type": "display_data"
    },
    {
     "data": {
      "image/png": "[encoded data removed]",
      "text/plain": [
       "<Figure size 576x432 with 1 Axes>"
      ]
     },
     "metadata": {
      "tags": []
     },
     "output_type": "display_data"
    }
   ],
   "source": [
    "# Check each stage how much time it is consiuming for 50 iters\n",
    "model_training.while_loop_timing(dataset, number_iters=10, show_time=False)\n",
    "MetricsVisualization.steps_timing_visualization(model_training.steps_timing)"
   ]
  },
  {
   "cell_type": "code",
   "execution_count": null,
   "metadata": {
    "colab": {
     "base_uri": "https://localhost:8080/"
    },
    "executionInfo": {
     "elapsed": 2716,
     "status": "ok",
     "timestamp": 1605737800712,
     "user": {
      "displayName": "ashraf alkilany",
      "photoUrl": "https://lh3.googleusercontent.com/a-/AOh14GgVid6__EenpK22X8G5QmbhtWE_ivChDWFv04HAXg=s64",
      "userId": "14343052987007834515"
     },
     "user_tz": -120
    },
    "id": "JxDIbwa0EVhk",
    "outputId": "f703a5b3-1b83-4670-9a97-6a9eecc413cf"
   },
   "outputs": [
    {
     "name": "stdout",
     "output_type": "stream",
     "text": [
      "Data loading takes 0.790215 [s]\n",
      "Data transfer takes 0.001071 [s]\n",
      "Zero gradients takes 0.000565 [s]\n",
      "Forward takes 0.021153 [s]\n",
      "Prediction takes 0.000269 [s]\n",
      "Loss takes 0.000242 [s]\n",
      "Backward takes 0.000784 [s]\n",
      "Optimizer takes 0.00089 [s]\n",
      "--------------------\n",
      "Data loading takes 0.731423 [s]\n",
      "Data transfer takes 0.001062 [s]\n",
      "Zero gradients takes 0.000652 [s]\n",
      "Forward takes 0.020945 [s]\n",
      "Prediction takes 0.000387 [s]\n",
      "Loss takes 0.000409 [s]\n",
      "Backward takes 0.000686 [s]\n",
      "Optimizer takes 0.000872 [s]\n",
      "--------------------\n"
     ]
    }
   ],
   "source": [
    "# If you want to loop using while\n",
    "model_training.while_loop_timing(dataset, number_iters=2, show_time=True)"
   ]
  },
  {
   "cell_type": "code",
   "execution_count": null,
   "metadata": {
    "id": "oX_0UYCxEaG9"
   },
   "outputs": [],
   "source": [
    "# If you want to extract the model only in .pth file\n",
    "ModelTraining.pth_model_save(model_training.model_name + '.pkl', 'test.pth')  \n"
   ]
  },
  {
   "cell_type": "code",
   "execution_count": null,
   "metadata": {
    "colab": {
     "background_save": true
    },
    "id": "iBS74xW2FzN8"
   },
   "outputs": [],
   "source": [
    "# If you want to create a compressed version of your model for deployment purpose\n",
    "ModelTraining.compress_model_file('test.pth')"
   ]
  },
  {
   "cell_type": "code",
   "execution_count": null,
   "metadata": {
    "colab": {
     "background_save": true,
     "base_uri": "https://localhost:8080/",
     "height": 1000,
     "output_embedded_package_id": "1C-er4wOciaxcbkt7DiV7T0yeVsQmEaN9"
    },
    "executionInfo": {
     "elapsed": 44802,
     "status": "ok",
     "timestamp": 1605737847969,
     "user": {
      "displayName": "ashraf alkilany",
      "photoUrl": "https://lh3.googleusercontent.com/a-/AOh14GgVid6__EenpK22X8G5QmbhtWE_ivChDWFv04HAXg=s64",
      "userId": "14343052987007834515"
     },
     "user_tz": -120
    },
    "id": "sk1tGMDRF7fq",
    "outputId": "263f845d-a033-4222-ac3b-1d9864466639"
   },
   "outputs": [],
   "source": [
    "# If you want to show the missclassified samlpes\n",
    "# display misclassified images\n",
    "model_training.display_misclassification(model_training.model_name + '.pkl', dataset, to_display = 15)"
   ]
  },
  {
   "cell_type": "code",
   "execution_count": null,
   "metadata": {
    "colab": {
     "background_save": true,
     "base_uri": "https://localhost:8080/",
     "height": 1000,
     "output_embedded_package_id": "1G65u1EqNXCtjR6bTKDFGbwmiyL-YpsA2"
    },
    "executionInfo": {
     "elapsed": 43242,
     "status": "ok",
     "timestamp": 1605737847975,
     "user": {
      "displayName": "ashraf alkilany",
      "photoUrl": "https://lh3.googleusercontent.com/a-/AOh14GgVid6__EenpK22X8G5QmbhtWE_ivChDWFv04HAXg=s64",
      "userId": "14343052987007834515"
     },
     "user_tz": -120
    },
    "id": "NpiKYYlSGK-t",
    "outputId": "1009edb3-a185-4174-ad27-d3604a4243d3"
   },
   "outputs": [],
   "source": [
    "# Restore Best model\n",
    "model_pkl = f'{model_name}.pkl'\n",
    "model_training = ModelTraining.restore_last_model_training(model_pkl)\n",
    "\n",
    "# Best Evaluation metrics\n",
    "ModelTraining.last_model_metrics_visualization(model_pkl)"
   ]
  },
  {
   "cell_type": "code",
   "execution_count": null,
   "metadata": {
    "colab": {
     "background_save": true,
     "base_uri": "https://localhost:8080/",
     "height": 1000,
     "output_embedded_package_id": "1nzB1Reb4qQZCH3_l17j-0nzOpMlTNXso"
    },
    "executionInfo": {
     "elapsed": 41311,
     "status": "ok",
     "timestamp": 1605737847983,
     "user": {
      "displayName": "ashraf alkilany",
      "photoUrl": "https://lh3.googleusercontent.com/a-/AOh14GgVid6__EenpK22X8G5QmbhtWE_ivChDWFv04HAXg=s64",
      "userId": "14343052987007834515"
     },
     "user_tz": -120
    },
    "id": "z_OQVzRIJJQQ",
    "outputId": "29cf52db-9fef-421a-bdb7-54c74d8c2bca"
   },
   "outputs": [],
   "source": [
    "# Restore Best model\n",
    "model_pkl = f'{model_name}.pkl'\n",
    "model_training = ModelTraining.restore_best_model_training(model_pkl)\n",
    "\n",
    "# Best Evaluation metrics\n",
    "ModelTraining.best_model_metrics_visualization(model_pkl)"
   ]
  },
  {
   "cell_type": "code",
   "execution_count": null,
   "metadata": {
    "id": "eVTcK_qNJ2zi"
   },
   "outputs": [],
   "source": []
  }
 ],
 "metadata": {
  "accelerator": "GPU",
  "colab": {
   "collapsed_sections": [],
   "name": "main.ipynb",
   "version": ""
  },
  "kernelspec": {
   "display_name": "Python 3",
   "language": "python",
   "name": "python3"
  },
  "language_info": {
   "codemirror_mode": {
    "name": "ipython",
    "version": 3
   },
   "file_extension": ".py",
   "mimetype": "text/x-python",
   "name": "python",
   "nbconvert_exporter": "python",
   "pygments_lexer": "ipython3",
   "version": "3.6.8"
  },
  "widgets": {
   "application/vnd.jupyter.widget-state+json": {
    "0d3fba824e744d6f958f5cd709a9060e": {
     "model_module": "@jupyter-widgets/controls",
     "model_name": "HBoxModel",
     "state": {
      "_dom_classes": [],
      "_model_module": "@jupyter-widgets/controls",
      "_model_module_version": "1.5.0",
      "_model_name": "HBoxModel",
      "_view_count": null,
      "_view_module": "@jupyter-widgets/controls",
      "_view_module_version": "1.5.0",
      "_view_name": "HBoxView",
      "box_style": "",
      "children": [
       "IPY_MODEL_770604c18566435f9b96e59823d820d4",
       "IPY_MODEL_22f337a52e1e4fa6908918a95ebfc45d"
      ],
      "layout": "IPY_MODEL_8d761ed5fe494f25a87062fb50360a8f"
     }
    },
    "22f337a52e1e4fa6908918a95ebfc45d": {
     "model_module": "@jupyter-widgets/controls",
     "model_name": "HTMLModel",
     "state": {
      "_dom_classes": [],
      "_model_module": "@jupyter-widgets/controls",
      "_model_module_version": "1.5.0",
      "_model_name": "HTMLModel",
      "_view_count": null,
      "_view_module": "@jupyter-widgets/controls",
      "_view_module_version": "1.5.0",
      "_view_name": "HTMLView",
      "description": "",
      "description_tooltip": null,
      "layout": "IPY_MODEL_cae71cedb92148d69eed54e178ec33bb",
      "placeholder": "​",
      "style": "IPY_MODEL_626124f0a6b947cca9966f2de8d743ed",
      "value": " 179/300 [07:20&lt;04:57,  2.46s/it]"
     }
    },
    "626124f0a6b947cca9966f2de8d743ed": {
     "model_module": "@jupyter-widgets/controls",
     "model_name": "DescriptionStyleModel",
     "state": {
      "_model_module": "@jupyter-widgets/controls",
      "_model_module_version": "1.5.0",
      "_model_name": "DescriptionStyleModel",
      "_view_count": null,
      "_view_module": "@jupyter-widgets/base",
      "_view_module_version": "1.2.0",
      "_view_name": "StyleView",
      "description_width": ""
     }
    },
    "770604c18566435f9b96e59823d820d4": {
     "model_module": "@jupyter-widgets/controls",
     "model_name": "FloatProgressModel",
     "state": {
      "_dom_classes": [],
      "_model_module": "@jupyter-widgets/controls",
      "_model_module_version": "1.5.0",
      "_model_name": "FloatProgressModel",
      "_view_count": null,
      "_view_module": "@jupyter-widgets/controls",
      "_view_module_version": "1.5.0",
      "_view_name": "ProgressView",
      "bar_style": "danger",
      "description": " 60%",
      "description_tooltip": null,
      "layout": "IPY_MODEL_fac5649ac9634e00861e7e75d2707d77",
      "max": 300,
      "min": 0,
      "orientation": "horizontal",
      "style": "IPY_MODEL_ced12babfa9b42a4be6c499693809760",
      "value": 179
     }
    },
    "8d761ed5fe494f25a87062fb50360a8f": {
     "model_module": "@jupyter-widgets/base",
     "model_name": "LayoutModel",
     "state": {
      "_model_module": "@jupyter-widgets/base",
      "_model_module_version": "1.2.0",
      "_model_name": "LayoutModel",
      "_view_count": null,
      "_view_module": "@jupyter-widgets/base",
      "_view_module_version": "1.2.0",
      "_view_name": "LayoutView",
      "align_content": null,
      "align_items": null,
      "align_self": null,
      "border": null,
      "bottom": null,
      "display": null,
      "flex": null,
      "flex_flow": null,
      "grid_area": null,
      "grid_auto_columns": null,
      "grid_auto_flow": null,
      "grid_auto_rows": null,
      "grid_column": null,
      "grid_gap": null,
      "grid_row": null,
      "grid_template_areas": null,
      "grid_template_columns": null,
      "grid_template_rows": null,
      "height": null,
      "justify_content": null,
      "justify_items": null,
      "left": null,
      "margin": null,
      "max_height": null,
      "max_width": null,
      "min_height": null,
      "min_width": null,
      "object_fit": null,
      "object_position": null,
      "order": null,
      "overflow": null,
      "overflow_x": null,
      "overflow_y": null,
      "padding": null,
      "right": null,
      "top": null,
      "visibility": null,
      "width": null
     }
    },
    "cae71cedb92148d69eed54e178ec33bb": {
     "model_module": "@jupyter-widgets/base",
     "model_name": "LayoutModel",
     "state": {
      "_model_module": "@jupyter-widgets/base",
      "_model_module_version": "1.2.0",
      "_model_name": "LayoutModel",
      "_view_count": null,
      "_view_module": "@jupyter-widgets/base",
      "_view_module_version": "1.2.0",
      "_view_name": "LayoutView",
      "align_content": null,
      "align_items": null,
      "align_self": null,
      "border": null,
      "bottom": null,
      "display": null,
      "flex": null,
      "flex_flow": null,
      "grid_area": null,
      "grid_auto_columns": null,
      "grid_auto_flow": null,
      "grid_auto_rows": null,
      "grid_column": null,
      "grid_gap": null,
      "grid_row": null,
      "grid_template_areas": null,
      "grid_template_columns": null,
      "grid_template_rows": null,
      "height": null,
      "justify_content": null,
      "justify_items": null,
      "left": null,
      "margin": null,
      "max_height": null,
      "max_width": null,
      "min_height": null,
      "min_width": null,
      "object_fit": null,
      "object_position": null,
      "order": null,
      "overflow": null,
      "overflow_x": null,
      "overflow_y": null,
      "padding": null,
      "right": null,
      "top": null,
      "visibility": null,
      "width": null
     }
    },
    "ced12babfa9b42a4be6c499693809760": {
     "model_module": "@jupyter-widgets/controls",
     "model_name": "ProgressStyleModel",
     "state": {
      "_model_module": "@jupyter-widgets/controls",
      "_model_module_version": "1.5.0",
      "_model_name": "ProgressStyleModel",
      "_view_count": null,
      "_view_module": "@jupyter-widgets/base",
      "_view_module_version": "1.2.0",
      "_view_name": "StyleView",
      "bar_color": null,
      "description_width": "initial"
     }
    },
    "fac5649ac9634e00861e7e75d2707d77": {
     "model_module": "@jupyter-widgets/base",
     "model_name": "LayoutModel",
     "state": {
      "_model_module": "@jupyter-widgets/base",
      "_model_module_version": "1.2.0",
      "_model_name": "LayoutModel",
      "_view_count": null,
      "_view_module": "@jupyter-widgets/base",
      "_view_module_version": "1.2.0",
      "_view_name": "LayoutView",
      "align_content": null,
      "align_items": null,
      "align_self": null,
      "border": null,
      "bottom": null,
      "display": null,
      "flex": null,
      "flex_flow": null,
      "grid_area": null,
      "grid_auto_columns": null,
      "grid_auto_flow": null,
      "grid_auto_rows": null,
      "grid_column": null,
      "grid_gap": null,
      "grid_row": null,
      "grid_template_areas": null,
      "grid_template_columns": null,
      "grid_template_rows": null,
      "height": null,
      "justify_content": null,
      "justify_items": null,
      "left": null,
      "margin": null,
      "max_height": null,
      "max_width": null,
      "min_height": null,
      "min_width": null,
      "object_fit": null,
      "object_position": null,
      "order": null,
      "overflow": null,
      "overflow_x": null,
      "overflow_y": null,
      "padding": null,
      "right": null,
      "top": null,
      "visibility": null,
      "width": null
     }
    }
   }
  }
 },
 "nbformat": 4,
 "nbformat_minor": 1
}
